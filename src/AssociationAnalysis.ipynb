{
 "cells": [
  {
   "cell_type": "code",
   "execution_count": 1,
   "metadata": {},
   "outputs": [],
   "source": [
    "import numpy as np\n",
    "import pandas as pd\n",
    "#import random\n",
    "import datetime\n",
    "import matplotlib.pyplot as plt\n",
    "import matplotlib.gridspec as gridspec\n",
    "import seaborn as sns\n",
    "#import jieba\n",
    "#import jieba.analyse\n",
    "#import gensim\n",
    "#from sklearn.manifold import TSNE\n",
    "\n",
    "%matplotlib notebook\n",
    "\n",
    "plt.rcParams['font.sans-serif']=['SimHei'] # chinese"
   ]
  },
  {
   "cell_type": "code",
   "execution_count": 2,
   "metadata": {},
   "outputs": [],
   "source": [
    "import apriori\n",
    "import fpgrowth as fpg\n",
    "from fastFM import als"
   ]
  },
  {
   "cell_type": "code",
   "execution_count": 3,
   "metadata": {},
   "outputs": [],
   "source": [
    "def run_apriori(file, support=0.1, confidence=0.6):\n",
    "    data_gen = apriori.dataFromFile(file)\n",
    "    items, rules = apriori.runApriori(data_gen, support, confidence)\n",
    "    #apriori.printResults(items, rules)\n",
    "    return items, rules"
   ]
  },
  {
   "cell_type": "code",
   "execution_count": 16,
   "metadata": {},
   "outputs": [
    {
     "data": {
      "text/plain": [
       "([(('mango',), 0.25),\n",
       "  (('beer',), 0.75),\n",
       "  (('apple',), 0.5),\n",
       "  (('milk',), 0.5),\n",
       "  (('chicken',), 0.25),\n",
       "  (('rice',), 0.5),\n",
       "  (('apple', 'beer'), 0.375),\n",
       "  (('rice', 'apple'), 0.25),\n",
       "  (('milk', 'rice'), 0.25),\n",
       "  (('milk', 'beer'), 0.375),\n",
       "  (('rice', 'beer'), 0.5),\n",
       "  (('chicken', 'beer'), 0.25),\n",
       "  (('rice', 'chicken'), 0.25),\n",
       "  (('rice', 'apple', 'beer'), 0.25),\n",
       "  (('milk', 'rice', 'beer'), 0.25),\n",
       "  (('rice', 'chicken', 'beer'), 0.25)],\n",
       " [((('rice',), ('beer',)), 1.0),\n",
       "  ((('chicken',), ('beer',)), 1.0),\n",
       "  ((('chicken',), ('rice',)), 1.0),\n",
       "  ((('rice', 'apple'), ('beer',)), 1.0),\n",
       "  ((('milk', 'rice'), ('beer',)), 1.0),\n",
       "  ((('chicken',), ('rice', 'beer')), 1.0),\n",
       "  ((('rice', 'chicken'), ('beer',)), 1.0),\n",
       "  ((('chicken', 'beer'), ('rice',)), 1.0)])"
      ]
     },
     "execution_count": 16,
     "metadata": {},
     "output_type": "execute_result"
    }
   ],
   "source": [
    "run_apriori('../data/sample_simple.csv', 0.2, 0.8)"
   ]
  },
  {
   "cell_type": "code",
   "execution_count": 5,
   "metadata": {},
   "outputs": [],
   "source": [
    "#run_apriori('../data/sample_integrated.csv', 0.2, 0.8)"
   ]
  },
  {
   "cell_type": "code",
   "execution_count": 9,
   "metadata": {},
   "outputs": [],
   "source": [
    "def build_fp_tree(file):\n",
    "    data = fpg.loadData(file)\n",
    "    tree, header = fpg.createTree(data, minSup=2)\n",
    "    return tree, header"
   ]
  },
  {
   "cell_type": "code",
   "execution_count": 15,
   "metadata": {},
   "outputs": [],
   "source": [
    "tree, header = build_fp_tree('../data/sample_simple.csv')"
   ]
  },
  {
   "cell_type": "code",
   "execution_count": 17,
   "metadata": {},
   "outputs": [
    {
     "name": "stdout",
     "output_type": "stream",
     "text": [
      "- Null Set : 1\n",
      "-- beer : 6\n",
      "--- rice : 2\n",
      "---- apple : 2\n",
      "----- chicken : 1\n",
      "--- apple : 1\n",
      "--- milk : 3\n",
      "---- rice : 2\n",
      "----- chicken : 1\n",
      "-- apple : 1\n",
      "--- mango : 1\n",
      "-- milk : 1\n",
      "--- mango : 1\n"
     ]
    }
   ],
   "source": [
    "tree.disp()"
   ]
  },
  {
   "cell_type": "code",
   "execution_count": null,
   "metadata": {},
   "outputs": [],
   "source": []
  }
 ],
 "metadata": {
  "kernelspec": {
   "display_name": "Python 3",
   "language": "python",
   "name": "python3"
  },
  "language_info": {
   "codemirror_mode": {
    "name": "ipython",
    "version": 3
   },
   "file_extension": ".py",
   "mimetype": "text/x-python",
   "name": "python",
   "nbconvert_exporter": "python",
   "pygments_lexer": "ipython3",
   "version": "3.6.4"
  }
 },
 "nbformat": 4,
 "nbformat_minor": 2
}
