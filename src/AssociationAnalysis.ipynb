{
 "cells": [
  {
   "cell_type": "code",
   "execution_count": 141,
   "metadata": {},
   "outputs": [],
   "source": [
    "import numpy as np\n",
    "import pandas as pd\n",
    "#import random\n",
    "import datetime\n",
    "import matplotlib.pyplot as plt\n",
    "import matplotlib.gridspec as gridspec\n",
    "import seaborn as sns\n",
    "#import jieba\n",
    "#import jieba.analyse\n",
    "#import gensim\n",
    "#from sklearn.manifold import TSNE\n",
    "\n",
    "from sklearn.cross_validation import train_test_split\n",
    "\n",
    "%matplotlib notebook\n",
    "\n",
    "plt.rcParams['font.sans-serif']=['SimHei'] # chinese"
   ]
  },
  {
   "cell_type": "code",
   "execution_count": 133,
   "metadata": {},
   "outputs": [],
   "source": [
    "import apriori\n",
    "import fpgrowth as fpg\n",
    "from fastFM import als\n",
    "from scipy import sparse"
   ]
  },
  {
   "cell_type": "code",
   "execution_count": 18,
   "metadata": {},
   "outputs": [],
   "source": [
    "def build_fp_tree(file):\n",
    "    data = fpg.loadData(file)\n",
    "    tree, header = fpg.createTree(data, minSup=2)\n",
    "    return tree, header"
   ]
  },
  {
   "cell_type": "code",
   "execution_count": 3,
   "metadata": {},
   "outputs": [],
   "source": [
    "def run_apriori(file, support=0.1, confidence=0.6):\n",
    "    data_gen = apriori.dataFromFile(file)\n",
    "    items, rules = apriori.runApriori(data_gen, support, confidence)\n",
    "    #apriori.printResults(items, rules)\n",
    "    return items, rules"
   ]
  },
  {
   "cell_type": "code",
   "execution_count": 16,
   "metadata": {},
   "outputs": [
    {
     "data": {
      "text/plain": [
       "([(('mango',), 0.25),\n",
       "  (('beer',), 0.75),\n",
       "  (('apple',), 0.5),\n",
       "  (('milk',), 0.5),\n",
       "  (('chicken',), 0.25),\n",
       "  (('rice',), 0.5),\n",
       "  (('apple', 'beer'), 0.375),\n",
       "  (('rice', 'apple'), 0.25),\n",
       "  (('milk', 'rice'), 0.25),\n",
       "  (('milk', 'beer'), 0.375),\n",
       "  (('rice', 'beer'), 0.5),\n",
       "  (('chicken', 'beer'), 0.25),\n",
       "  (('rice', 'chicken'), 0.25),\n",
       "  (('rice', 'apple', 'beer'), 0.25),\n",
       "  (('milk', 'rice', 'beer'), 0.25),\n",
       "  (('rice', 'chicken', 'beer'), 0.25)],\n",
       " [((('rice',), ('beer',)), 1.0),\n",
       "  ((('chicken',), ('beer',)), 1.0),\n",
       "  ((('chicken',), ('rice',)), 1.0),\n",
       "  ((('rice', 'apple'), ('beer',)), 1.0),\n",
       "  ((('milk', 'rice'), ('beer',)), 1.0),\n",
       "  ((('chicken',), ('rice', 'beer')), 1.0),\n",
       "  ((('rice', 'chicken'), ('beer',)), 1.0),\n",
       "  ((('chicken', 'beer'), ('rice',)), 1.0)])"
      ]
     },
     "execution_count": 16,
     "metadata": {},
     "output_type": "execute_result"
    }
   ],
   "source": [
    "run_apriori('../data/sample_simple.csv', 0.2, 0.8)"
   ]
  },
  {
   "cell_type": "code",
   "execution_count": 5,
   "metadata": {},
   "outputs": [],
   "source": [
    "#run_apriori('../data/sample_integrated.csv', 0.2, 0.8)"
   ]
  },
  {
   "cell_type": "code",
   "execution_count": 15,
   "metadata": {},
   "outputs": [],
   "source": [
    "tree, header = build_fp_tree('../data/sample_simple.csv')"
   ]
  },
  {
   "cell_type": "code",
   "execution_count": 17,
   "metadata": {},
   "outputs": [
    {
     "name": "stdout",
     "output_type": "stream",
     "text": [
      "- Null Set : 1\n",
      "-- beer : 6\n",
      "--- rice : 2\n",
      "---- apple : 2\n",
      "----- chicken : 1\n",
      "--- apple : 1\n",
      "--- milk : 3\n",
      "---- rice : 2\n",
      "----- chicken : 1\n",
      "-- apple : 1\n",
      "--- mango : 1\n",
      "-- milk : 1\n",
      "--- mango : 1\n"
     ]
    }
   ],
   "source": [
    "tree.disp()"
   ]
  },
  {
   "cell_type": "code",
   "execution_count": 26,
   "metadata": {},
   "outputs": [
    {
     "data": {
      "text/html": [
       "<div>\n",
       "<style scoped>\n",
       "    .dataframe tbody tr th:only-of-type {\n",
       "        vertical-align: middle;\n",
       "    }\n",
       "\n",
       "    .dataframe tbody tr th {\n",
       "        vertical-align: top;\n",
       "    }\n",
       "\n",
       "    .dataframe thead th {\n",
       "        text-align: right;\n",
       "    }\n",
       "</style>\n",
       "<table border=\"1\" class=\"dataframe\">\n",
       "  <thead>\n",
       "    <tr style=\"text-align: right;\">\n",
       "      <th></th>\n",
       "      <th>0</th>\n",
       "      <th>1</th>\n",
       "      <th>2</th>\n",
       "      <th>3</th>\n",
       "    </tr>\n",
       "  </thead>\n",
       "  <tbody>\n",
       "    <tr>\n",
       "      <th>0</th>\n",
       "      <td>apple</td>\n",
       "      <td>beer</td>\n",
       "      <td>rice</td>\n",
       "      <td>chicken</td>\n",
       "    </tr>\n",
       "    <tr>\n",
       "      <th>1</th>\n",
       "      <td>apple</td>\n",
       "      <td>beer</td>\n",
       "      <td>rice</td>\n",
       "      <td>NaN</td>\n",
       "    </tr>\n",
       "    <tr>\n",
       "      <th>2</th>\n",
       "      <td>apple</td>\n",
       "      <td>beer</td>\n",
       "      <td>NaN</td>\n",
       "      <td>NaN</td>\n",
       "    </tr>\n",
       "    <tr>\n",
       "      <th>3</th>\n",
       "      <td>apple</td>\n",
       "      <td>mango</td>\n",
       "      <td>NaN</td>\n",
       "      <td>NaN</td>\n",
       "    </tr>\n",
       "    <tr>\n",
       "      <th>4</th>\n",
       "      <td>milk</td>\n",
       "      <td>beer</td>\n",
       "      <td>rice</td>\n",
       "      <td>chicken</td>\n",
       "    </tr>\n",
       "    <tr>\n",
       "      <th>5</th>\n",
       "      <td>milk</td>\n",
       "      <td>beer</td>\n",
       "      <td>rice</td>\n",
       "      <td>NaN</td>\n",
       "    </tr>\n",
       "    <tr>\n",
       "      <th>6</th>\n",
       "      <td>milk</td>\n",
       "      <td>beer</td>\n",
       "      <td>NaN</td>\n",
       "      <td>NaN</td>\n",
       "    </tr>\n",
       "    <tr>\n",
       "      <th>7</th>\n",
       "      <td>milk</td>\n",
       "      <td>mango</td>\n",
       "      <td>NaN</td>\n",
       "      <td>NaN</td>\n",
       "    </tr>\n",
       "  </tbody>\n",
       "</table>\n",
       "</div>"
      ],
      "text/plain": [
       "       0      1     2        3\n",
       "0  apple   beer  rice  chicken\n",
       "1  apple   beer  rice      NaN\n",
       "2  apple   beer   NaN      NaN\n",
       "3  apple  mango   NaN      NaN\n",
       "4   milk   beer  rice  chicken\n",
       "5   milk   beer  rice      NaN\n",
       "6   milk   beer   NaN      NaN\n",
       "7   milk  mango   NaN      NaN"
      ]
     },
     "execution_count": 26,
     "metadata": {},
     "output_type": "execute_result"
    }
   ],
   "source": [
    "df = pd.read_csv('../data/sample_simple.csv', header=None)\n",
    "df"
   ]
  },
  {
   "cell_type": "code",
   "execution_count": 111,
   "metadata": {},
   "outputs": [],
   "source": [
    "def create_item_set(df):\n",
    "    itemset = set()\n",
    "    for index, row in df.iterrows():\n",
    "        for e in row.tolist():\n",
    "            itemset.add(e)\n",
    "    itemset.remove(np.nan)\n",
    "    return itemset"
   ]
  },
  {
   "cell_type": "code",
   "execution_count": 112,
   "metadata": {},
   "outputs": [
    {
     "data": {
      "text/plain": [
       "{'apple', 'beer', 'chicken', 'mango', 'milk', 'rice'}"
      ]
     },
     "execution_count": 112,
     "metadata": {},
     "output_type": "execute_result"
    }
   ],
   "source": [
    "itemset = create_item_set(df)\n",
    "itemset"
   ]
  },
  {
   "cell_type": "code",
   "execution_count": 101,
   "metadata": {},
   "outputs": [],
   "source": [
    "def create_onehot_vec(itemset):\n",
    "    items = list(itemset)\n",
    "    itemvec = np.eye(len(items))\n",
    "    itemvec_dict = {}\n",
    "    for i in range(len(items)):\n",
    "        itemvec_dict[items[i]] = itemvec[i]\n",
    "    return itemvec_dict"
   ]
  },
  {
   "cell_type": "code",
   "execution_count": 102,
   "metadata": {
    "scrolled": true
   },
   "outputs": [
    {
     "data": {
      "text/plain": [
       "{'apple': array([0., 0., 0., 0., 0., 1.]),\n",
       " 'beer': array([1., 0., 0., 0., 0., 0.]),\n",
       " 'chicken': array([0., 0., 0., 1., 0., 0.]),\n",
       " 'mango': array([0., 1., 0., 0., 0., 0.]),\n",
       " 'milk': array([0., 0., 1., 0., 0., 0.]),\n",
       " 'rice': array([0., 0., 0., 0., 1., 0.])}"
      ]
     },
     "execution_count": 102,
     "metadata": {},
     "output_type": "execute_result"
    }
   ],
   "source": [
    "itemvec = create_onehot_vec(itemset)\n",
    "itemvec"
   ]
  },
  {
   "cell_type": "code",
   "execution_count": 98,
   "metadata": {},
   "outputs": [
    {
     "data": {
      "text/plain": [
       "array([1., 1., 0., 0., 0., 0.])"
      ]
     },
     "execution_count": 98,
     "metadata": {},
     "output_type": "execute_result"
    }
   ],
   "source": [
    "itemvec[\"beer\"] + itemvec[\"mango\"]"
   ]
  },
  {
   "cell_type": "code",
   "execution_count": 103,
   "metadata": {},
   "outputs": [],
   "source": [
    "uservec = create_onehot_vec(df.index)"
   ]
  },
  {
   "cell_type": "code",
   "execution_count": 104,
   "metadata": {},
   "outputs": [
    {
     "data": {
      "text/plain": [
       "{0: array([1., 0., 0., 0., 0., 0., 0., 0.]),\n",
       " 1: array([0., 1., 0., 0., 0., 0., 0., 0.]),\n",
       " 2: array([0., 0., 1., 0., 0., 0., 0., 0.]),\n",
       " 3: array([0., 0., 0., 1., 0., 0., 0., 0.]),\n",
       " 4: array([0., 0., 0., 0., 1., 0., 0., 0.]),\n",
       " 5: array([0., 0., 0., 0., 0., 1., 0., 0.]),\n",
       " 6: array([0., 0., 0., 0., 0., 0., 1., 0.]),\n",
       " 7: array([0., 0., 0., 0., 0., 0., 0., 1.])}"
      ]
     },
     "execution_count": 104,
     "metadata": {},
     "output_type": "execute_result"
    }
   ],
   "source": [
    "uservec"
   ]
  },
  {
   "cell_type": "code",
   "execution_count": 125,
   "metadata": {},
   "outputs": [],
   "source": [
    "def create_user_item_matrix(df, uservec, itemvec):\n",
    "    mat = None\n",
    "    for index, row in df.iterrows():\n",
    "        vu = uservec[index]\n",
    "        vi_sum = None\n",
    "        for item_name in row.tolist():\n",
    "            if item_name is np.nan:\n",
    "                continue\n",
    "            vi = itemvec[item_name]\n",
    "            if vi_sum is None:\n",
    "                vi_sum = vi\n",
    "            else:\n",
    "                vi_sum += vi\n",
    "        vi_sum /= np.sum(vi_sum)\n",
    "        for item_name in row.tolist():\n",
    "            if item_name is np.nan:\n",
    "                continue\n",
    "            vi = itemvec[item_name]\n",
    "            vuil = np.concatenate((vu, vi, vi_sum), axis = 0)\n",
    "            if mat is None:\n",
    "                mat = vuil\n",
    "            else:\n",
    "                mat = np.vstack((mat, vuil))\n",
    "    return mat"
   ]
  },
  {
   "cell_type": "code",
   "execution_count": 127,
   "metadata": {},
   "outputs": [],
   "source": [
    "mat = create_user_item_matrix(df, uservec, itemvec)"
   ]
  },
  {
   "cell_type": "code",
   "execution_count": 142,
   "metadata": {},
   "outputs": [],
   "source": [
    "X = mat\n",
    "y = np.ones(mat.shape[0])\n",
    "X_ = sparse.csc_matrix(X)\n",
    "X_train, X_test, y_train, y_test = train_test_split(X_, y)"
   ]
  },
  {
   "cell_type": "code",
   "execution_count": 151,
   "metadata": {},
   "outputs": [],
   "source": [
    "fm = als.FMRegression(n_iter=1000, init_stdev=0.1, rank=2, l2_reg_w=0.1, l2_reg_V=0.5)\n",
    "fm.fit(X_train, y_train)\n",
    "y_pred = fm.predict(X_test)"
   ]
  },
  {
   "cell_type": "code",
   "execution_count": null,
   "metadata": {},
   "outputs": [],
   "source": []
  }
 ],
 "metadata": {
  "kernelspec": {
   "display_name": "Python 3",
   "language": "python",
   "name": "python3"
  },
  "language_info": {
   "codemirror_mode": {
    "name": "ipython",
    "version": 3
   },
   "file_extension": ".py",
   "mimetype": "text/x-python",
   "name": "python",
   "nbconvert_exporter": "python",
   "pygments_lexer": "ipython3",
   "version": "3.6.4"
  }
 },
 "nbformat": 4,
 "nbformat_minor": 2
}
